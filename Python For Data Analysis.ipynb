{
 "cells": [
  {
   "cell_type": "markdown",
   "metadata": {},
   "source": [
    "Tasks required generally fall into a number of different broad groups:\n",
    "\n",
    "    * Interacting with the outside world\n",
    "        Reading and writing with a variety of file formats and databases.\n",
    "        \n",
    "    * Preparation\n",
    "        Cleaning, munging, combining, normalizing, reshaping, slicing and dicing, and transforming data for analysis.\n",
    "        \n",
    "    * Transformation\n",
    "        Applying mathematical and statistical operations to groups of data sets to derive new data sets. \n",
    "        For example,aggregating a large table by group variables.\n",
    "        \n",
    "    * Modeling and computation\n",
    "        Connecting your data to statistical models, machine learning algorithms, or other computational tools.\n",
    "        \n",
    "    * Presentation\n",
    "        Creating interactive or static graphical visualizations or textual summaries"
   ]
  },
  {
   "cell_type": "markdown",
   "metadata": {},
   "source": [
    "NumPy\n",
    "\n",
    "NumPy, short for Numerical Python, is the foundational package for scientific com- puting in Python. The majority of this book will be based on NumPy and libraries built on top of NumPy. It provides, among other things:\n",
    "\n",
    "    • A fast and efficient multidimensional array object ndarray\n",
    "    • Functions for performing element-wise computations with arrays or mathematical\n",
    "    operations between arrays\n",
    "    • Tools for reading and writing array-based data sets to disk\n",
    "    • Linear algebra operations, Fourier transform, and random number generation\n",
    "    • Tools for integrating connecting C, C++, and Fortran code to Python\n",
    "    \n",
    "Beyond the fast array-processing capabilities that NumPy adds to Python, one of its primary purposes with regards to data analysis is as the primary container for data to be passed between algorithms. For numerical data, NumPy arrays are a much more efficient way of storing and manipulating data than the other built-in Python data structures. Also, libraries written in a lower-level language, such as C or Fortran, can operate on the data stored in a NumPy array without copying any data."
   ]
  },
  {
   "cell_type": "markdown",
   "metadata": {},
   "source": [
    "Pandas\n",
    "\n",
    "Pandas provides rich data structures and functions designed to make working with structured data fast, easy, and expressive. It is, as you will see, one of the critical in- gredients enabling Python to be a powerful and productive data analysis environment. The primary object in pandas that will be used in this book is the DataFrame, a two- dimensional tabular, column-oriented data structure with both row and column labels:\n",
    "    \n",
    "\n",
    "Pandas combines the high performance array-computing features of NumPy with the flexible data manipulation capabilities of spreadsheets and relational databases (such as SQL). It provides sophisticated indexing functionality to make it easy to reshape, slice and dice, perform aggregations, and select subsets of data. \n",
    "\n",
    "For financial users, pandas features rich, high-performance time series functionality and tools well-suited for working with financial data"
   ]
  },
  {
   "cell_type": "markdown",
   "metadata": {},
   "source": [
    "Matplotlib\n",
    "\n",
    "matplotlib is the most popular Python library for producing plots and other 2D data visualizations. It was originally created by John D. Hunter (JDH) and is now maintained by a large team of developers. It is well-suited for creating plots suitable for publication. It integrates well with IPython (see below), thus providing a comfortable interactive environment for plotting and exploring data. The plots are also interactive; you can zoom in on a section of the plot and pan around the plot using the toolbar in the plot window.\n"
   ]
  },
  {
   "cell_type": "markdown",
   "metadata": {},
   "source": [
    "SciPy\n",
    "\n",
    "SciPy is a collection of packages addressing a number of different standard problem domains in scientific computing. Here is a sampling of the packages included:\n",
    "\n",
    "    • scipy.integrate: numerical integration routines and differential equation solvers\n",
    "    • scipy.linalg: linear algebra routines and matrix decompositions extending be-\n",
    "    yond those provided in numpy.linalg.\n",
    "    • scipy.optimize: function optimizers (minimizers) and root finding algorithms\n",
    "    • scipy.signal: signal processing tools\n",
    "    • scipy.sparse: sparse matrices and sparse linear system solvers\n",
    "    • scipy.special: wrapper around SPECFUN, a Fortran library implementing many common mathematical functions, such as the gamma function\n",
    "    • scipy.stats: standard continuous and discrete probability distributions (density functions, samplers, continuous distribution functions), various statistical tests, and more descriptive statistics\n",
    "    • scipy.weave: tool for using inline C++ code to accelerate array computations Together NumPy and SciPy form a reasonably complete computational replacement\n",
    "    for much of MATLAB along with some of its add-on toolboxes."
   ]
  }
 ],
 "metadata": {
  "kernelspec": {
   "display_name": "Python 3",
   "language": "python",
   "name": "python3"
  },
  "language_info": {
   "codemirror_mode": {
    "name": "ipython",
    "version": 3
   },
   "file_extension": ".py",
   "mimetype": "text/x-python",
   "name": "python",
   "nbconvert_exporter": "python",
   "pygments_lexer": "ipython3",
   "version": "3.6.3"
  }
 },
 "nbformat": 4,
 "nbformat_minor": 2
}
